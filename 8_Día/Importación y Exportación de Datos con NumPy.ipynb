{
 "cells": [
  {
   "cell_type": "code",
   "execution_count": 1,
   "id": "f9997174",
   "metadata": {},
   "outputs": [],
   "source": [
    "import numpy as np"
   ]
  },
  {
   "cell_type": "code",
   "execution_count": 2,
   "id": "a75b6b50",
   "metadata": {},
   "outputs": [],
   "source": [
    "ruta = \"c:/Users/jemil/Documents/CursosYMas/CursoPythonDSyML/8_Día/medallas.csv\""
   ]
  },
  {
   "cell_type": "code",
   "execution_count": 7,
   "id": "39128ef4",
   "metadata": {},
   "outputs": [
    {
     "data": {
      "text/plain": [
       "array([[  0,   1,   2,   3,   0],\n",
       "       [  0,   2,   2,   4,   0],\n",
       "       [ 17,   7,  22,  46,   0],\n",
       "       [  1,   1,   5,   7,   0],\n",
       "       [  0,   3,   4,   7,   0],\n",
       "       [  2,   0,   0,   2,   0],\n",
       "       [  0,   1,   0,   1,   0],\n",
       "       [  1,   3,   3,   7,   0],\n",
       "       [  3,   1,   3,   7,   0],\n",
       "       [  1,   0,   0,   1,   0],\n",
       "       [  0,   0,   1,   1,   0],\n",
       "       [  7,   6,   8,  21,   0],\n",
       "       [  3,   1,   2,   6,   0],\n",
       "       [  0,   0,   1,   1,   0],\n",
       "       [  7,   6,  11,  24,   0],\n",
       "       [  2,   4,   6,  12,   0],\n",
       "       [  0,   4,   1,   5,   0],\n",
       "       [  3,   3,   2,   8,   0],\n",
       "       [  0,   0,   1,   1,   0],\n",
       "       [  7,   3,   5,  15,   0],\n",
       "       [  4,   4,   3,  11,   0],\n",
       "       [  3,   4,   4,  11,   0],\n",
       "       [  0,   3,   2,   5,   0],\n",
       "       [  2,   1,   0,   3,   0],\n",
       "       [  1,   1,   4,   6,   0],\n",
       "       [ 39,  41,  33, 113,   0],\n",
       "       [  1,   0,   1,   2,   0],\n",
       "       [  1,   1,   2,   4,   0],\n",
       "       [  1,   0,   1,   2,   0],\n",
       "       [  0,   0,   2,   2,   0],\n",
       "       [  1,  12,  11,  33,   0],\n",
       "       [  2,   5,   1,   8,   0],\n",
       "       [  1,  11,  16,  37,   0],\n",
       "       [  0,   0,   1,   1,   0],\n",
       "       [ 22,  21,  22,  65,   0],\n",
       "       [  2,   1,   1,   4,   0],\n",
       "       [  0,   0,   1,   1,   0],\n",
       "       [  0,   2,   3,   6,   0],\n",
       "       [  6,   7,   7,   2,   0],\n",
       "       [  1,   2,   4,   7,   0],\n",
       "       [  1,   1,   3,   5,   0],\n",
       "       [  2,   0,   2,   4,   0],\n",
       "       [  3,   2,   2,   7,   0],\n",
       "       [  2,   0,   2,   4,   0],\n",
       "       [  1,   1,   2,   4,   0],\n",
       "       [  4,   1,   4,   9,   0],\n",
       "       [ 27,  14,  17,  58,   0],\n",
       "       [  0,   1,   1,   2,   0],\n",
       "       [  0,   0,   8,   8,   0],\n",
       "       [  4,   4,   2,   1,   0],\n",
       "       [  2,   0,   0,   2,   0],\n",
       "       [  0,   0,   1,   1,   0],\n",
       "       [  0,   2,   1,   3,   0],\n",
       "       [  1,   0,   1,   2,   0],\n",
       "       [  0,   1,   0,   1,   0],\n",
       "       [  0,   1,   1,   2,   0],\n",
       "       [  0,   0,   4,   4,   0],\n",
       "       [  0,   1,   3,   4,   0],\n",
       "       [  1,   0,   0,   1,   0],\n",
       "       [  0,   1,   0,   1,   0],\n",
       "       [  1,  12,  14,  36,   0],\n",
       "       [  7,   6,   7,   2,   0],\n",
       "       [  0,   1,   1,   2,   0],\n",
       "       [  0,   1,   0,   1,   0],\n",
       "       [  4,   2,   2,   8,   0],\n",
       "       [  1,   2,   1,   4,   0],\n",
       "       [  4,   5,   5,  14,   0],\n",
       "       [  1,   1,   2,   4,   0],\n",
       "       [  1,   0,   0,   1,   0],\n",
       "       [  2,   0,   1,   3,   0],\n",
       "       [  6,   4,   1,   2,   0],\n",
       "       [  0,   0,   1,   1,   0],\n",
       "       [ 38,  32,  18,  88,   0],\n",
       "       [  2,  28,  23,  71,   0],\n",
       "       [  1,   3,   0,   4,   0],\n",
       "       [  0,   1,   2,   3,   0],\n",
       "       [  0,   1,   0,   1,   0],\n",
       "       [  3,   1,   5,   9,   0],\n",
       "       [  1,   2,   1,   4,   0],\n",
       "       [  3,   1,   1,   5,   0],\n",
       "       [  1,   2,   0,   3,   0],\n",
       "       [  3,   8,   6,  17,   0],\n",
       "       [  3,   6,   0,   9,   0],\n",
       "       [  3,   4,   6,  13,   0],\n",
       "       [  0,   0,   1,   1,   0],\n",
       "       [  1,   0,   1,   2,   0],\n",
       "       [  1,   1,   0,   2,   0],\n",
       "       [  2,   2,   9,  13,   0],\n",
       "       [  0,   1,   0,   1,   0],\n",
       "       [  2,   1,   1,   4,   0],\n",
       "       [  1,   6,  12,  19,   0],\n",
       "       [  3,   0,   2,   5,   0],\n",
       "       [  1,   3,   0,   4,   0]])"
      ]
     },
     "execution_count": 7,
     "metadata": {},
     "output_type": "execute_result"
    }
   ],
   "source": [
    "array = np.genfromtxt(ruta, delimiter=\",\",filling_values=0,skip_header=True,dtype=int)\n",
    "array"
   ]
  },
  {
   "cell_type": "code",
   "execution_count": 8,
   "id": "ef8c698b",
   "metadata": {},
   "outputs": [],
   "source": [
    "array_prueba = np.array([[1,2,3],[4,5,6]])"
   ]
  },
  {
   "cell_type": "code",
   "execution_count": 9,
   "id": "25790f10",
   "metadata": {},
   "outputs": [],
   "source": [
    "ruta_salida = \"c:/Users/jemil/Documents/CursosYMas/CursoPythonDSyML/8_Día/miarray.csv\""
   ]
  },
  {
   "cell_type": "code",
   "execution_count": 11,
   "id": "a17bf69d",
   "metadata": {},
   "outputs": [],
   "source": [
    "np.savetxt(ruta_salida,array_prueba,delimiter=\",\",fmt=\"%d\")"
   ]
  },
  {
   "cell_type": "code",
   "execution_count": null,
   "id": "10b12e9d",
   "metadata": {},
   "outputs": [],
   "source": []
  }
 ],
 "metadata": {
  "kernelspec": {
   "display_name": "Python 3 (ipykernel)",
   "language": "python",
   "name": "python3"
  },
  "language_info": {
   "codemirror_mode": {
    "name": "ipython",
    "version": 3
   },
   "file_extension": ".py",
   "mimetype": "text/x-python",
   "name": "python",
   "nbconvert_exporter": "python",
   "pygments_lexer": "ipython3",
   "version": "3.12.4"
  }
 },
 "nbformat": 4,
 "nbformat_minor": 5
}
