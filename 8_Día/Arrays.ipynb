{
 "cells": [
  {
   "cell_type": "code",
   "execution_count": 7,
   "id": "a810be89",
   "metadata": {},
   "outputs": [],
   "source": [
    "import numpy as np\n",
    "import time"
   ]
  },
  {
   "cell_type": "code",
   "execution_count": 2,
   "id": "e805f2d7",
   "metadata": {},
   "outputs": [
    {
     "data": {
      "text/plain": [
       "array([1, 2, 3, 4, 5])"
      ]
     },
     "execution_count": 2,
     "metadata": {},
     "output_type": "execute_result"
    }
   ],
   "source": [
    "mi_array = np.array([1,2,3,4,5])\n",
    "mi_array"
   ]
  },
  {
   "cell_type": "code",
   "execution_count": 3,
   "id": "314b2539",
   "metadata": {},
   "outputs": [
    {
     "data": {
      "text/plain": [
       "numpy.ndarray"
      ]
     },
     "execution_count": 3,
     "metadata": {},
     "output_type": "execute_result"
    }
   ],
   "source": [
    "type(mi_array)"
   ]
  },
  {
   "cell_type": "code",
   "execution_count": 4,
   "id": "ea4092c7",
   "metadata": {},
   "outputs": [],
   "source": [
    "lista_grande = list(range(1000000))\n",
    "array_grande = np.array(lista_grande)"
   ]
  },
  {
   "cell_type": "code",
   "execution_count": 5,
   "id": "5bbc2c43",
   "metadata": {},
   "outputs": [
    {
     "data": {
      "text/plain": [
       "list"
      ]
     },
     "execution_count": 5,
     "metadata": {},
     "output_type": "execute_result"
    }
   ],
   "source": [
    "type(lista_grande)"
   ]
  },
  {
   "cell_type": "code",
   "execution_count": 6,
   "id": "54b8c2ba",
   "metadata": {},
   "outputs": [
    {
     "data": {
      "text/plain": [
       "numpy.ndarray"
      ]
     },
     "execution_count": 6,
     "metadata": {},
     "output_type": "execute_result"
    }
   ],
   "source": [
    "type(array_grande)"
   ]
  },
  {
   "cell_type": "code",
   "execution_count": 9,
   "id": "8a0f3d36",
   "metadata": {},
   "outputs": [
    {
     "name": "stdout",
     "output_type": "stream",
     "text": [
      "Tiempo lista:  0.13567161560058594\n"
     ]
    }
   ],
   "source": [
    "inicio_lista = time.time()\n",
    "for i in lista_grande:\n",
    "    i ** 2\n",
    "fin_lista = time.time()\n",
    "print(\"Tiempo lista: \",fin_lista - inicio_lista)"
   ]
  },
  {
   "cell_type": "code",
   "execution_count": 10,
   "id": "8e7e70d6",
   "metadata": {},
   "outputs": [
    {
     "name": "stdout",
     "output_type": "stream",
     "text": [
      "Tiempo array:  0.011928319931030273\n"
     ]
    }
   ],
   "source": [
    "inicio_array = time.time()\n",
    "array_grande ** 2\n",
    "fin_array = time.time()\n",
    "print(\"Tiempo array: \",fin_array - inicio_array)"
   ]
  },
  {
   "cell_type": "code",
   "execution_count": null,
   "id": "82403b94",
   "metadata": {},
   "outputs": [],
   "source": []
  }
 ],
 "metadata": {
  "kernelspec": {
   "display_name": "Python 3 (ipykernel)",
   "language": "python",
   "name": "python3"
  },
  "language_info": {
   "codemirror_mode": {
    "name": "ipython",
    "version": 3
   },
   "file_extension": ".py",
   "mimetype": "text/x-python",
   "name": "python",
   "nbconvert_exporter": "python",
   "pygments_lexer": "ipython3",
   "version": "3.12.4"
  }
 },
 "nbformat": 4,
 "nbformat_minor": 5
}
