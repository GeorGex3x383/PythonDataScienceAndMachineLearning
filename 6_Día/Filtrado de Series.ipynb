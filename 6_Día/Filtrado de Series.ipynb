{
 "cells": [
  {
   "cell_type": "code",
   "execution_count": 2,
   "id": "f48fac4f",
   "metadata": {
    "scrolled": true
   },
   "outputs": [
    {
     "data": {
      "text/plain": [
       "0     5\n",
       "1    10\n",
       "2    15\n",
       "3    20\n",
       "4    25\n",
       "dtype: int64"
      ]
     },
     "execution_count": 2,
     "metadata": {},
     "output_type": "execute_result"
    }
   ],
   "source": [
    "import pandas as pd\n",
    "\n",
    "serie = pd.Series([5, 10, 15, 20, 25])\n",
    "serie"
   ]
  },
  {
   "cell_type": "code",
   "execution_count": 3,
   "id": "4b12871b",
   "metadata": {},
   "outputs": [
    {
     "data": {
      "text/plain": [
       "3    20\n",
       "4    25\n",
       "dtype: int64"
      ]
     },
     "execution_count": 3,
     "metadata": {},
     "output_type": "execute_result"
    }
   ],
   "source": [
    "filtro = serie > 15\n",
    "serie_filtrada = serie[filtro]\n",
    "serie_filtrada"
   ]
  },
  {
   "cell_type": "code",
   "execution_count": 4,
   "id": "19d54f9f",
   "metadata": {},
   "outputs": [
    {
     "data": {
      "text/plain": [
       "0    Banana\n",
       "1      Pera\n",
       "2     Melón\n",
       "3    Sandía\n",
       "dtype: object"
      ]
     },
     "execution_count": 4,
     "metadata": {},
     "output_type": "execute_result"
    }
   ],
   "source": [
    "serie2 = pd.Series([\"Banana\",\"Pera\",\"Melón\",\"Sandía\"])\n",
    "serie2"
   ]
  },
  {
   "cell_type": "code",
   "execution_count": 5,
   "id": "d9cc1b46",
   "metadata": {},
   "outputs": [
    {
     "data": {
      "text/plain": [
       "pandas.core.series.Series"
      ]
     },
     "execution_count": 5,
     "metadata": {},
     "output_type": "execute_result"
    }
   ],
   "source": [
    "type(serie2)"
   ]
  },
  {
   "cell_type": "code",
   "execution_count": 6,
   "id": "07c527e7",
   "metadata": {},
   "outputs": [
    {
     "data": {
      "text/plain": [
       "0     True\n",
       "1     True\n",
       "2    False\n",
       "3     True\n",
       "dtype: bool"
      ]
     },
     "execution_count": 6,
     "metadata": {},
     "output_type": "execute_result"
    }
   ],
   "source": [
    "filtro2 = serie2.str.contains(\"a\")\n",
    "filtro2"
   ]
  },
  {
   "cell_type": "code",
   "execution_count": 7,
   "id": "d37898ba",
   "metadata": {},
   "outputs": [
    {
     "data": {
      "text/plain": [
       "0    Banana\n",
       "1      Pera\n",
       "3    Sandía\n",
       "dtype: object"
      ]
     },
     "execution_count": 7,
     "metadata": {},
     "output_type": "execute_result"
    }
   ],
   "source": [
    "serie2[filtro2]"
   ]
  },
  {
   "cell_type": "code",
   "execution_count": null,
   "id": "aaeafe0b",
   "metadata": {},
   "outputs": [],
   "source": []
  }
 ],
 "metadata": {
  "kernelspec": {
   "display_name": "Python 3 (ipykernel)",
   "language": "python",
   "name": "python3"
  },
  "language_info": {
   "codemirror_mode": {
    "name": "ipython",
    "version": 3
   },
   "file_extension": ".py",
   "mimetype": "text/x-python",
   "name": "python",
   "nbconvert_exporter": "python",
   "pygments_lexer": "ipython3",
   "version": "3.12.4"
  }
 },
 "nbformat": 4,
 "nbformat_minor": 5
}
