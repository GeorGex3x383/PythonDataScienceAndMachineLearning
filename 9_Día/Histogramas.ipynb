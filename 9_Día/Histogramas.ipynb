{
 "cells": [
  {
   "cell_type": "code",
   "execution_count": 1,
   "id": "e14c64b8",
   "metadata": {},
   "outputs": [],
   "source": [
    "import pandas as pd\n",
    "import numpy as np\n",
    "import matplotlib.pyplot as plt\n",
    "%matplotlib inline"
   ]
  },
  {
   "cell_type": "code",
   "execution_count": 2,
   "id": "d06b6c71",
   "metadata": {},
   "outputs": [
    {
     "data": {
      "text/html": [
       "<div>\n",
       "<style scoped>\n",
       "    .dataframe tbody tr th:only-of-type {\n",
       "        vertical-align: middle;\n",
       "    }\n",
       "\n",
       "    .dataframe tbody tr th {\n",
       "        vertical-align: top;\n",
       "    }\n",
       "\n",
       "    .dataframe thead th {\n",
       "        text-align: right;\n",
       "    }\n",
       "</style>\n",
       "<table border=\"1\" class=\"dataframe\">\n",
       "  <thead>\n",
       "    <tr style=\"text-align: right;\">\n",
       "      <th></th>\n",
       "      <th>Fecha</th>\n",
       "      <th>Producto</th>\n",
       "      <th>Cantidad</th>\n",
       "      <th>Precio Unitario</th>\n",
       "      <th>Total Venta</th>\n",
       "    </tr>\n",
       "  </thead>\n",
       "  <tbody>\n",
       "    <tr>\n",
       "      <th>0</th>\n",
       "      <td>1/17/2023</td>\n",
       "      <td>Electrónic</td>\n",
       "      <td>7</td>\n",
       "      <td>200</td>\n",
       "      <td>1400</td>\n",
       "    </tr>\n",
       "    <tr>\n",
       "      <th>1</th>\n",
       "      <td>9/1/2023</td>\n",
       "      <td>Electrónic</td>\n",
       "      <td>8</td>\n",
       "      <td>200</td>\n",
       "      <td>1600</td>\n",
       "    </tr>\n",
       "    <tr>\n",
       "      <th>2</th>\n",
       "      <td>7/29/2023</td>\n",
       "      <td>Juguetes</td>\n",
       "      <td>3</td>\n",
       "      <td>30</td>\n",
       "      <td>90</td>\n",
       "    </tr>\n",
       "    <tr>\n",
       "      <th>3</th>\n",
       "      <td>10/4/2023</td>\n",
       "      <td>Alimentos</td>\n",
       "      <td>4</td>\n",
       "      <td>10</td>\n",
       "      <td>40</td>\n",
       "    </tr>\n",
       "    <tr>\n",
       "      <th>4</th>\n",
       "      <td>2/28/2023</td>\n",
       "      <td>Electrónic</td>\n",
       "      <td>6</td>\n",
       "      <td>200</td>\n",
       "      <td>1200</td>\n",
       "    </tr>\n",
       "    <tr>\n",
       "      <th>...</th>\n",
       "      <td>...</td>\n",
       "      <td>...</td>\n",
       "      <td>...</td>\n",
       "      <td>...</td>\n",
       "      <td>...</td>\n",
       "    </tr>\n",
       "    <tr>\n",
       "      <th>995</th>\n",
       "      <td>4/27/2023</td>\n",
       "      <td>Alimentos</td>\n",
       "      <td>2</td>\n",
       "      <td>10</td>\n",
       "      <td>20</td>\n",
       "    </tr>\n",
       "    <tr>\n",
       "      <th>996</th>\n",
       "      <td>6/9/2023</td>\n",
       "      <td>Ropa</td>\n",
       "      <td>10</td>\n",
       "      <td>50</td>\n",
       "      <td>500</td>\n",
       "    </tr>\n",
       "    <tr>\n",
       "      <th>997</th>\n",
       "      <td>8/21/2023</td>\n",
       "      <td>Alimentos</td>\n",
       "      <td>8</td>\n",
       "      <td>10</td>\n",
       "      <td>80</td>\n",
       "    </tr>\n",
       "    <tr>\n",
       "      <th>998</th>\n",
       "      <td>3/28/2023</td>\n",
       "      <td>Electrónic</td>\n",
       "      <td>6</td>\n",
       "      <td>200</td>\n",
       "      <td>1200</td>\n",
       "    </tr>\n",
       "    <tr>\n",
       "      <th>999</th>\n",
       "      <td>3/7/2023</td>\n",
       "      <td>Electrónic</td>\n",
       "      <td>4</td>\n",
       "      <td>200</td>\n",
       "      <td>800</td>\n",
       "    </tr>\n",
       "  </tbody>\n",
       "</table>\n",
       "<p>1000 rows × 5 columns</p>\n",
       "</div>"
      ],
      "text/plain": [
       "         Fecha    Producto  Cantidad  Precio Unitario  Total Venta\n",
       "0    1/17/2023  Electrónic         7              200         1400\n",
       "1     9/1/2023  Electrónic         8              200         1600\n",
       "2    7/29/2023    Juguetes         3               30           90\n",
       "3    10/4/2023   Alimentos         4               10           40\n",
       "4    2/28/2023  Electrónic         6              200         1200\n",
       "..         ...         ...       ...              ...          ...\n",
       "995  4/27/2023   Alimentos         2               10           20\n",
       "996   6/9/2023        Ropa        10               50          500\n",
       "997  8/21/2023   Alimentos         8               10           80\n",
       "998  3/28/2023  Electrónic         6              200         1200\n",
       "999   3/7/2023  Electrónic         4              200          800\n",
       "\n",
       "[1000 rows x 5 columns]"
      ]
     },
     "execution_count": 2,
     "metadata": {},
     "output_type": "execute_result"
    }
   ],
   "source": [
    "df = pd.read_csv(\"c:/Users/jemil/Documents/CursosYMas/CursoPythonDSyML/9_Día/Ventas.csv\")\n",
    "df"
   ]
  },
  {
   "cell_type": "code",
   "execution_count": 3,
   "id": "4808a0fa",
   "metadata": {},
   "outputs": [
    {
     "data": {
      "image/png": "[encoded data removed]",
      "text/plain": [
       "<Figure size 640x480 with 1 Axes>"
      ]
     },
     "metadata": {},
     "output_type": "display_data"
    }
   ],
   "source": [
    "plt.hist(df['Producto']);"
   ]
  },
  {
   "cell_type": "code",
   "execution_count": 4,
   "id": "c460b5a1",
   "metadata": {},
   "outputs": [
    {
     "data": {
      "text/plain": [
       "array([-1.16679245e+00, -2.87171818e-01, -5.01959602e-01,  1.29404964e+00,\n",
       "       -2.51257199e+00, -1.99881124e-01,  1.22664922e-01, -5.69565359e-01,\n",
       "        6.67005882e-01, -1.53592813e+00,  7.59575136e-01,  3.23189051e-01,\n",
       "        8.16663400e-02, -7.06768085e-01, -7.16743022e-01, -5.73554865e-01,\n",
       "       -7.11529534e-01, -2.27324648e-01,  1.17042100e+00, -4.62505124e-01,\n",
       "        6.61803246e-01, -2.59574617e-01, -8.02347599e-01,  9.04891095e-01,\n",
       "       -7.80801098e-01,  4.21552932e-02,  8.30311269e-01,  4.81018369e-01,\n",
       "       -1.28289991e+00, -1.17267046e+00,  5.87003129e-03, -1.51023037e-01,\n",
       "        2.30716177e-01, -5.01681048e-01, -5.97616790e-01,  2.79192590e-03,\n",
       "        1.04048786e+00, -5.01364990e-01,  2.65195660e-01,  1.66634191e-01,\n",
       "       -1.81203362e-01, -1.28302677e+00,  1.44065071e-01,  2.50280035e-01,\n",
       "        7.69632404e-01, -9.57191233e-01,  1.15112208e+00, -6.95049175e-01,\n",
       "       -4.46705796e-02,  1.81089461e+00, -1.30439800e+00, -5.01332900e-01,\n",
       "       -8.83980415e-01, -1.06226258e+00, -1.69142730e+00,  3.60804166e-01,\n",
       "        9.12971181e-01, -1.26770442e+00,  1.25875348e-02, -1.68991378e+00,\n",
       "       -8.06233625e-02,  9.15444787e-01, -4.63167436e-02, -7.04208678e-01,\n",
       "       -4.90018847e-02,  1.52061800e+00, -1.05215874e+00, -6.63635374e-01,\n",
       "        2.20897825e-01,  1.53867157e+00, -9.78255846e-01,  7.95883204e-02,\n",
       "       -1.83772520e-01,  9.51465557e-03,  1.11886608e-01,  5.05219937e-01,\n",
       "        6.98189741e-01, -2.12148468e+00,  4.38616207e-01, -1.12158400e+00,\n",
       "        1.84018009e+00,  2.13188227e+00, -5.05233953e-01, -8.82488007e-01,\n",
       "        4.38907051e-01,  5.24701987e-02,  6.70688877e-02, -5.25920716e-01,\n",
       "       -4.49910535e-01, -1.64742846e+00,  1.52655236e+00, -1.69345872e+00,\n",
       "        8.71567403e-01,  1.71154245e+00,  4.15091816e-01,  2.12157979e+00,\n",
       "        1.20889261e+00, -1.88809176e-01, -1.36704739e+00,  4.12772072e-01,\n",
       "        6.00062351e-01, -1.31970099e-01,  7.36860515e-01, -1.80093608e+00,\n",
       "       -1.92601404e-02, -3.36671221e-01, -2.16856312e+00, -6.83394928e-01,\n",
       "        2.81392681e-01,  3.43228915e-01, -1.87825286e+00, -8.97260872e-01,\n",
       "        4.89759329e-01, -2.75962157e+00, -5.18260274e-01,  9.57420483e-01,\n",
       "        2.60512955e-01, -5.44572731e-02,  1.40274546e+00, -7.08722744e-01,\n",
       "        1.73981179e+00, -2.44804171e-01,  2.91828314e-01,  2.39575026e-01,\n",
       "       -1.81924585e-01, -5.97614357e-01, -3.15319161e-01,  1.07542906e+00,\n",
       "       -1.28759946e-01, -1.23828238e+00, -1.42350568e+00, -1.47800669e+00,\n",
       "        1.38179864e-02,  9.92678568e-02, -1.23645543e+00,  1.31371938e+00,\n",
       "       -1.33961144e+00, -1.32351231e+00,  7.07985312e-01, -4.19560746e-02,\n",
       "        5.22686987e-01,  3.41281495e-01,  2.17485645e-01, -8.58816815e-01,\n",
       "       -6.79615007e-01, -1.67037015e-01, -1.40998961e+00, -6.22802858e-03,\n",
       "        1.33471402e+00, -8.42715530e-01,  3.91982902e+00,  4.97685789e-01,\n",
       "        4.54391675e-01,  3.56318952e-01, -8.45634214e-02, -1.35551091e+00,\n",
       "        1.28488808e+00,  4.73649794e-02,  1.74634725e-01,  4.33471279e-01,\n",
       "        5.13062482e-01,  1.93917005e+00, -2.56911745e+00,  2.43390861e-01,\n",
       "        6.40314911e-01, -6.22897675e-02, -8.47803705e-02,  1.49817160e+00,\n",
       "       -2.98546020e-01, -2.05176188e-01,  1.12308195e+00,  5.75731477e-01,\n",
       "       -8.10537679e-01,  4.87050567e-01,  1.56996621e+00,  2.08091278e-01,\n",
       "       -3.00343108e-01,  5.60479612e-02,  5.90922981e-02, -1.96703462e+00,\n",
       "        1.36502373e+00,  3.38338737e-01, -1.00665798e+00, -1.30883711e-01,\n",
       "        2.02836506e-01, -3.58318030e-01,  1.89869327e-01,  8.08471689e-02,\n",
       "       -2.03077533e+00,  5.11101426e-01, -2.40320595e+00,  5.05993798e-01,\n",
       "       -1.54979517e-01, -6.70487197e-01,  1.23678243e-01, -1.24303976e+00,\n",
       "        7.30359177e-02,  6.21888641e-01, -4.56843194e-01,  3.56555102e-01,\n",
       "        1.86058091e+00,  5.81114166e-01,  3.92643707e-01, -4.36652837e-01,\n",
       "       -3.73172794e-01, -7.13448510e-01,  4.31956862e-01, -1.61238183e+00,\n",
       "        1.01417733e-01,  1.07642258e-01,  3.57132322e-01, -1.86205927e+00,\n",
       "        3.35849485e-01, -2.31885419e-01, -2.09098793e-01, -8.65423539e-01,\n",
       "        9.88988645e-01,  1.13783787e+00, -1.20348485e+00,  7.00290734e-01,\n",
       "       -1.74170785e+00,  1.40221500e+00,  1.45891425e+00,  1.17807608e+00,\n",
       "        8.94442144e-01, -1.19183660e+00, -4.46625668e-01,  1.97873969e-01,\n",
       "        8.95865998e-01, -9.35076108e-01,  7.80271922e-02, -6.75066691e-01,\n",
       "       -8.79028192e-01,  1.38627086e+00,  4.16421653e-01,  2.04881033e-01,\n",
       "        1.60016598e+00,  6.75363044e-01,  6.84733624e-01,  9.20480039e-01,\n",
       "        1.67878191e+00,  1.92991027e-01, -3.32265611e-01, -7.28379282e-01,\n",
       "        4.02523070e-01, -6.79570866e-02, -7.21958090e-01,  1.52429726e+00,\n",
       "        1.48864169e+00, -4.18782750e-02, -1.55691231e+00, -7.64159900e-01,\n",
       "        8.06856314e-01, -5.51111358e-04,  6.53559142e-01,  3.97255267e-01,\n",
       "        2.02963617e+00, -9.71702999e-02, -7.16422793e-01,  7.32866588e-01,\n",
       "        5.61086273e-03,  2.83464141e-01, -1.36657471e-01,  2.47556186e+00,\n",
       "        6.69985366e-01,  3.93946061e-01, -1.70376088e+00,  3.37078376e-01,\n",
       "       -4.44024857e-01, -8.20886323e-01,  1.11046886e+00, -1.52960974e+00,\n",
       "        2.31976692e+00, -5.34122588e-01,  7.98982778e-01, -9.02745713e-01,\n",
       "        4.93937284e-01,  1.03878674e+00, -3.95551208e-04,  3.88365043e-01,\n",
       "       -6.50853864e-01, -8.78728147e-01, -1.11285679e-01,  9.12050436e-01,\n",
       "        5.67447343e-01,  7.03468497e-01, -2.81143525e-01,  1.82206870e-01,\n",
       "        5.42221805e-01,  7.74948710e-01, -7.38219656e-01, -4.21862813e-01,\n",
       "       -2.75187784e-01, -1.86502027e+00, -8.30761325e-01, -3.16489464e-01,\n",
       "        7.02154774e-01,  3.22460933e-01,  9.37442626e-01,  1.63653237e+00,\n",
       "        1.46277304e+00, -4.51397017e-01,  5.90207218e-01,  1.17366730e-01,\n",
       "        3.95389289e-01, -4.85399509e-01,  1.34970378e-01, -1.83671258e+00,\n",
       "        1.91939682e+00, -2.15292374e-01, -6.41810854e-01,  4.39016258e-01,\n",
       "       -4.60397841e-01,  3.03044686e+00,  2.13640955e+00, -3.36882646e-01,\n",
       "        7.02319750e-01,  6.22656597e-02,  5.53743319e-01, -3.24485889e-01,\n",
       "       -2.14410551e-01,  6.84236036e-01, -1.72617873e+00, -1.33607835e-01,\n",
       "        9.65288097e-01, -9.80121740e-01, -3.64735004e-02, -7.50750059e-02,\n",
       "        3.88860453e-01, -3.71791360e-02,  5.11996297e-01, -1.23101089e+00,\n",
       "       -1.25348606e+00,  2.47398126e-01, -2.02406543e+00,  7.76418716e-01,\n",
       "        4.34418168e-02, -1.08701618e+00, -1.46162034e-01, -1.00497663e+00,\n",
       "       -5.26853259e-01, -5.26586903e-01,  1.05741255e-01,  5.74152061e-01,\n",
       "       -7.86308523e-01,  4.23404099e-01, -1.92585164e+00, -1.79690259e+00,\n",
       "        5.42818672e-01,  9.83439969e-01, -1.53254208e+00,  7.59269863e-01,\n",
       "        6.51439567e-01, -5.70730445e-01, -6.54485117e-01,  3.72465781e-01,\n",
       "       -3.05850202e-01,  2.67870525e-01, -3.55503928e-01,  2.35160771e-02,\n",
       "       -3.46012389e-01,  5.76684598e-01,  2.00026957e-01,  2.61635298e+00,\n",
       "        1.29544192e+00,  1.01130783e+00,  6.43588565e-01,  1.59884672e+00,\n",
       "       -2.21126424e-01,  3.89267603e-01,  1.55193719e+00,  3.64493277e-01,\n",
       "       -1.01337512e+00,  1.71636048e+00, -2.53923993e-01,  1.28309985e-01,\n",
       "        6.54683508e-01,  7.24280940e-01, -9.41505735e-01,  2.21257394e-01,\n",
       "        7.71056987e-01, -2.02900451e+00,  4.44565387e-01,  7.16572505e-01,\n",
       "        1.45829007e+00,  1.10141313e+00,  1.67831545e+00, -1.74342378e+00,\n",
       "       -9.58933460e-02,  2.12340091e+00, -5.28803688e-01,  2.52381460e-01,\n",
       "        8.76950782e-01, -5.94540538e-01,  2.01210337e+00,  6.84126038e-01,\n",
       "        4.76407341e-01,  2.75634748e-01, -6.70630798e-01,  4.46612752e-01,\n",
       "       -7.72701211e-01,  3.91221156e-01, -8.48959578e-01,  1.02406086e+00,\n",
       "        2.07875481e+00,  9.85732698e-01,  8.26421420e-01, -1.28193015e+00,\n",
       "       -6.59919335e-01, -4.53894103e-01, -3.40921435e-01, -7.06270075e-01,\n",
       "        8.68548645e-01, -2.04733520e+00,  4.79345883e-01, -7.09393232e-01,\n",
       "       -3.01535623e-01, -9.81101762e-01, -6.87867407e-01, -7.35586528e-01,\n",
       "       -1.13146425e-01, -1.18981590e+00,  2.96782328e-01,  5.50444701e-01,\n",
       "        7.85605112e-01,  1.48967482e-01,  1.81124716e-01,  8.48749450e-01,\n",
       "       -4.74421036e-01, -1.69177323e+00,  9.22250593e-01,  1.35181832e+00,\n",
       "       -8.49745001e-01, -9.60813427e-01,  6.40179488e-02,  1.52914965e+00,\n",
       "       -1.07050031e-01,  3.64692549e-01,  1.22455373e-01,  4.20199158e-01,\n",
       "       -5.28466507e-01,  1.98076807e+00, -9.21523306e-01, -2.32363358e-01,\n",
       "        4.10573276e-01, -4.21055366e-01, -7.98169062e-01, -2.62567674e-01,\n",
       "        7.85270759e-01,  8.37159516e-01, -4.48788357e-01,  9.56950857e-01,\n",
       "       -7.70011072e-01, -1.04156185e+00, -3.09099459e-01, -5.97451420e-01,\n",
       "        5.78188054e-01, -8.24790127e-01, -4.59360198e-01,  2.54717186e+00,\n",
       "       -8.68048993e-01,  1.68351771e+00, -5.99399303e-01, -7.50925681e-01,\n",
       "       -1.01190386e+00, -1.59005816e-01, -3.87072593e-01,  1.72050184e+00,\n",
       "        1.18503330e+00, -1.32341642e+00,  9.27589098e-01, -5.25372297e-01,\n",
       "        1.25160666e+00, -2.45738282e-01,  1.44460730e+00, -6.47886635e-01,\n",
       "       -7.14721141e-01, -4.48710661e-01, -1.82296669e+00, -2.26927938e-01,\n",
       "       -2.03336197e+00,  2.05209304e+00,  5.00944203e-01, -3.94675096e-01,\n",
       "       -1.05295306e+00, -6.03723528e-01, -9.84358169e-01, -6.75771052e-01,\n",
       "        2.00202636e+00, -1.07340613e+00, -5.91459812e-01, -3.12780376e-02,\n",
       "       -8.51698768e-02, -9.43455834e-01,  9.23878145e-01, -4.84771832e-01,\n",
       "        6.11789549e-01,  7.10995911e-02, -2.46896510e-01, -3.45094991e+00,\n",
       "       -8.67026188e-01,  3.12089944e+00,  1.31567660e+00,  6.52722635e-02,\n",
       "       -4.49314346e-02, -9.59718294e-01,  1.30968499e+00, -6.61473557e-01,\n",
       "        3.72455161e-01,  1.81558110e+00,  1.09857411e+00,  9.01414449e-01,\n",
       "       -6.39222573e-01,  1.21763515e+00, -7.94475230e-01,  2.25984933e-01,\n",
       "        1.32400221e+00,  2.01185457e+00,  5.82358500e-01, -1.54133677e+00,\n",
       "        1.57054365e-01, -4.61792871e-01,  4.39837872e-01,  1.99405557e+00,\n",
       "       -1.74669231e-01, -1.65230755e+00,  7.30593301e-01, -1.17388889e+00,\n",
       "       -3.89573957e-01,  5.84856197e-01,  2.16053055e-01,  6.83997678e-01,\n",
       "       -9.49890835e-01, -4.95254118e-02, -2.70803233e-01,  7.13623071e-01,\n",
       "        2.43008713e-01,  4.28771775e-01, -1.54043980e+00, -7.67108182e-01,\n",
       "       -1.54224135e+00,  1.42702382e+00, -9.43779654e-01, -7.51180080e-01,\n",
       "        1.89536416e+00,  1.80059728e+00, -2.01162512e-01,  5.32102687e-01,\n",
       "        5.44845978e-01,  5.94089067e-01, -9.45206489e-01,  1.10091787e+00,\n",
       "       -2.54808688e+00, -1.81068334e+00,  9.28502353e-02,  5.41505986e-01,\n",
       "       -1.70888688e-01,  1.12285256e+00,  2.05285927e+00,  6.63478892e-01,\n",
       "       -1.85528206e-01,  8.06477774e-01, -1.03951638e+00, -1.42418047e+00,\n",
       "       -1.30907432e+00,  3.39697451e-02, -3.53050750e-01,  1.87524194e-01,\n",
       "       -1.19602745e-01,  9.89215492e-01, -6.54472614e-01,  6.64852535e-01,\n",
       "       -7.98167440e-01, -1.42848176e+00,  4.28474990e-02,  2.16484564e-01,\n",
       "        8.38786560e-01,  1.60660813e-01, -6.57526737e-01, -1.50906455e-01,\n",
       "        9.41065893e-01,  4.74968081e-01,  1.77138448e-01,  2.43832015e+00,\n",
       "        5.23517711e-01, -1.71742815e+00, -3.71156381e-01, -6.62921947e-01,\n",
       "       -8.37750284e-02,  1.37694796e+00,  1.42804330e+00, -1.11901538e+00,\n",
       "        1.26836162e-01, -1.22006175e+00, -3.16425345e-01, -2.04300465e+00,\n",
       "       -1.64543149e+00,  1.14530971e+00, -5.26769072e-01, -4.39032559e-01,\n",
       "       -1.15757275e+00,  1.38459033e+00, -2.20002572e+00,  5.24986837e-01,\n",
       "       -3.77735225e-01, -4.98215023e-01,  9.99105349e-02,  1.42551709e+00,\n",
       "        1.06421978e+00, -7.90923342e-02,  3.74053630e-02,  7.76162128e-01,\n",
       "        5.00449052e-01, -5.17317770e-01, -1.74356297e+00, -2.56196758e-01,\n",
       "        1.63150258e+00, -3.60550672e-01, -5.82314579e-01,  1.36554300e+00,\n",
       "        1.36980224e+00,  5.48794210e-01, -1.29379699e+00,  1.56460313e+00,\n",
       "       -8.73630686e-01,  8.13062712e-01,  6.97703353e-01, -9.43262808e-01,\n",
       "        6.68308178e-01,  2.04412105e+00,  9.80986931e-01, -5.38029165e-01,\n",
       "       -1.72446674e+00, -7.93350062e-01,  2.67768575e-01,  9.35165343e-01,\n",
       "        9.16654289e-01, -2.91928731e+00,  7.72137961e-01,  3.15105213e+00,\n",
       "        1.79022251e+00, -6.35080783e-01,  1.16365794e+00,  6.82190222e-01,\n",
       "       -8.16103713e-01, -4.35536598e-01,  1.12894598e-01,  8.56407253e-01,\n",
       "       -1.20787638e+00,  2.86781992e-01, -1.32795218e+00,  9.31591671e-01,\n",
       "        2.97022131e-01, -8.31297805e-01,  3.65905976e-01, -9.94631529e-01,\n",
       "       -7.37686500e-01,  6.29411693e-02, -3.85059420e-01,  1.55923806e+00,\n",
       "        1.17449850e+00,  4.09704396e-01, -2.55058502e+00, -2.33607112e-01,\n",
       "        1.17725519e-01,  7.49581814e-01,  3.76295728e-01, -6.95166686e-01,\n",
       "       -5.40504421e-01, -1.83820528e-01, -9.83290284e-02, -5.98670590e-01,\n",
       "        1.44835859e+00, -5.39671705e-01,  1.04507143e+00, -3.66974862e-01,\n",
       "        2.06479082e+00, -2.65779749e-01,  8.90966886e-01,  5.95796581e-01,\n",
       "        9.06726625e-01, -4.48995504e+00, -1.19275709e+00,  1.40021455e+00,\n",
       "        3.30229383e-01, -4.05386043e-01,  9.52350697e-01,  6.59208803e-01,\n",
       "       -1.52256260e-01,  1.18726886e+00,  5.71438113e-01,  4.09137808e-01,\n",
       "       -1.86263719e+00,  2.27119353e-02, -3.53144414e-01,  1.12230857e+00,\n",
       "        3.42488307e-01,  1.38309119e+00, -5.05584532e-01, -2.17567864e+00,\n",
       "        2.28717013e+00,  9.25493119e-01, -1.45029900e-01,  1.98964254e+00,\n",
       "       -1.95355468e-02, -1.07798146e+00,  1.04802203e+00, -2.43113226e+00,\n",
       "        3.13008869e+00, -1.17659017e+00,  1.84421239e+00,  5.83821952e-01,\n",
       "        6.86454322e-01, -4.43817689e-01,  1.62802221e-01, -5.82064367e-01,\n",
       "        8.13367850e-01, -5.53777098e-01, -4.41008619e-02,  2.25769417e-01,\n",
       "        1.84636369e-01,  1.95079179e-01, -1.76463394e+00, -1.44186608e-01,\n",
       "        3.50299041e-01, -8.60552088e-01,  6.33172885e-01,  3.28994457e-01,\n",
       "        1.66877315e-01,  3.77735490e-02,  8.67444314e-01,  1.91488398e+00,\n",
       "       -1.13609442e+00,  8.22596556e-01, -8.69879426e-01,  1.98719803e+00,\n",
       "        1.19705036e+00, -2.82102928e-01,  4.29372119e-01,  3.04033707e-01,\n",
       "       -5.34686158e-01, -3.28477646e-01, -6.31473284e-01,  5.72786615e-01,\n",
       "       -1.13843808e+00, -1.88655299e+00, -1.31192675e-01,  1.11592845e+00,\n",
       "        5.23250007e-01,  1.96526658e-02, -3.89481404e-01,  2.83875502e-01,\n",
       "       -1.03419879e+00,  3.32218593e-01,  1.24437194e-02, -7.11114443e-01,\n",
       "       -4.51874541e-01, -7.14341477e-01,  6.21277222e-01,  1.38610609e-01,\n",
       "       -1.64857100e+00,  3.44918723e-01,  3.21076332e-01, -1.24389162e+00,\n",
       "        8.57989766e-01,  1.17354101e+00, -8.19176076e-01, -2.16089553e+00,\n",
       "        1.24408975e+00, -5.89216553e-01, -7.83586958e-01, -1.00413167e+00,\n",
       "        1.83619005e-01, -1.44150071e+00, -6.95882275e-01, -2.34839623e-01,\n",
       "        1.44600369e+00, -8.11049684e-01,  4.95225457e-01, -1.09077986e-01,\n",
       "        4.32307786e-01,  1.55176979e+00, -1.50374238e+00,  1.49051798e+00,\n",
       "        2.40212959e+00,  1.19272264e+00, -8.51975646e-01,  5.59486274e-02,\n",
       "        7.22930357e-01,  1.29075249e-01, -2.12356747e-01, -5.10037003e-02,\n",
       "        1.08191686e+00, -2.75041187e-01, -5.36187141e-01,  7.00089433e-01,\n",
       "       -1.81662141e+00, -1.31838268e+00,  5.20079897e-01,  1.32564598e+00,\n",
       "        1.11357428e+00,  9.39103115e-02, -1.36074283e+00, -1.90281446e+00,\n",
       "        1.39933906e+00, -2.98471466e-02,  1.71311496e+00, -1.67698091e+00,\n",
       "       -5.03007661e-02,  6.38071644e-01, -6.56070404e-01,  9.48053074e-01,\n",
       "       -2.58807237e-02,  6.10405793e-01, -5.11137661e-01,  5.24412790e-01,\n",
       "       -4.90024165e-01,  3.99412603e-01, -8.55090009e-01, -3.92599927e-01,\n",
       "       -2.71319963e-01, -7.30281572e-01, -1.59806938e-02, -7.29569624e-01,\n",
       "        1.33086282e-01,  2.56446824e-01, -1.09921042e+00, -2.78528227e-01,\n",
       "        1.36579651e-01, -9.67747641e-01, -4.73734337e-02, -6.62734899e-01,\n",
       "       -3.35710927e-01, -8.24783161e-01,  5.28336663e-01, -1.44278120e+00,\n",
       "       -8.35161133e-02,  1.28331152e-01, -4.52423646e-01, -1.56951261e+00,\n",
       "       -1.43189481e+00,  2.25252604e-01,  8.99637883e-02,  2.08132170e-01,\n",
       "       -2.71358566e-01, -2.26869853e-01,  1.35368821e+00, -4.65075504e-01,\n",
       "        5.84913389e-03, -2.84813227e-02,  1.18302224e+00, -1.30180643e+00,\n",
       "       -2.37941724e+00,  1.85161866e-01, -2.71665128e+00,  1.72646452e+00,\n",
       "        4.21114826e-01, -1.51491595e+00,  3.06420177e-01, -5.87009676e-01,\n",
       "       -2.74808400e+00, -1.31072421e+00,  9.08727785e-01, -2.02908610e-01,\n",
       "       -7.79202048e-01, -4.50545498e-01,  2.07714521e+00, -2.79986784e-01,\n",
       "        2.29734908e+00,  7.62961883e-01,  5.39677326e-01,  1.33071325e+00,\n",
       "       -1.16381847e+00,  1.10049668e+00, -1.71347206e-01,  3.85219900e-01,\n",
       "        8.13709414e-01,  1.70658386e-01, -1.13046229e+00, -5.20762707e-01,\n",
       "       -9.15213477e-01, -1.12033961e+00, -1.03970668e+00, -7.34427520e-01,\n",
       "        6.82374373e-02,  1.74204735e-01,  3.77727447e-01,  1.50913574e+00,\n",
       "        3.39330352e-02,  3.32715770e-01,  1.52589851e+00, -7.85797682e-01,\n",
       "        1.61400412e+00,  3.78074716e-01,  1.07703383e+00,  1.05782078e+00,\n",
       "        4.20703873e-01,  5.44568194e-01, -5.21245910e-01,  1.53106516e+00,\n",
       "       -2.86607649e-01,  4.73167588e-01, -4.93181052e-01, -9.03448359e-01,\n",
       "        6.26428703e-01, -6.39186057e-01, -1.59765368e+00, -3.06755554e+00,\n",
       "        1.12652806e-01,  3.26497431e-01, -1.25085442e+00, -1.43443276e+00,\n",
       "       -5.85236242e-01,  1.25520819e+00, -7.14575382e-02, -3.77825547e-01,\n",
       "        6.90841358e-01, -3.00229216e-01,  1.31713525e+00,  2.98683571e-01,\n",
       "        9.37785183e-01, -1.15374162e+00,  6.79398526e-01, -3.50168202e-01,\n",
       "       -9.64647060e-01, -6.96628247e-01, -1.48480606e+00, -1.25136612e-01,\n",
       "       -4.55002895e-01, -1.96462567e+00,  1.38531280e+00,  1.22590110e+00,\n",
       "        2.81905667e-01, -7.54046277e-01, -3.28093836e-01,  1.01005146e-01,\n",
       "        5.29194576e-01,  7.29973818e-01, -1.18235647e+00, -2.89744238e-01,\n",
       "       -1.13813636e+00, -3.97768951e-01,  2.60594042e-02, -1.75576455e-01,\n",
       "        5.07043079e-01, -1.39495528e+00,  3.60210461e-01, -1.05225594e-01,\n",
       "        1.45190683e+00, -8.67344309e-01,  3.80463951e-01, -1.90207872e-01,\n",
       "       -4.63481068e-01,  1.44353802e+00,  3.70443436e-01,  6.38147598e-02,\n",
       "        7.61858469e-01,  1.44824803e-01, -2.09645863e+00, -4.27316245e-01,\n",
       "       -1.47025981e+00,  7.73039304e-01, -3.78700917e-01,  1.59781110e+00,\n",
       "        6.98515201e-01,  2.28694657e-01, -5.71866378e-01,  9.58370244e-01,\n",
       "        1.36499949e-01, -3.61888100e-01,  3.30147420e-01, -6.57002549e-02,\n",
       "        5.09092643e-01,  2.49948892e-01, -1.27427716e+00,  1.37182552e+00,\n",
       "       -2.71921600e-01,  1.44159180e+00, -7.68934029e-01, -1.63909571e+00,\n",
       "        6.30766090e-01,  8.72558654e-01,  1.31444735e+00,  2.57578362e-01,\n",
       "        7.29001939e-01,  4.26540943e-01,  7.86516824e-01,  2.72850087e-01,\n",
       "        1.06260280e+00,  7.57703695e-01,  6.95316331e-01,  1.32989881e+00,\n",
       "        2.87884772e-01, -1.21636450e+00, -2.76102419e+00,  2.82083688e+00,\n",
       "       -1.51612241e-01, -9.79564627e-01,  9.88428942e-01,  1.54133312e+00])"
      ]
     },
     "execution_count": 4,
     "metadata": {},
     "output_type": "execute_result"
    }
   ],
   "source": [
    "numeros = np.random.randn(1000)\n",
    "numeros"
   ]
  },
  {
   "cell_type": "code",
   "execution_count": 5,
   "id": "9116cd7d",
   "metadata": {},
   "outputs": [
    {
     "data": {
      "image/png": "[encoded data removed]",
      "text/plain": [
       "<Figure size 640x480 with 1 Axes>"
      ]
     },
     "metadata": {},
     "output_type": "display_data"
    }
   ],
   "source": [
    "plt.hist(numeros);"
   ]
  },
  {
   "cell_type": "code",
   "execution_count": 6,
   "id": "c0b82d1f",
   "metadata": {},
   "outputs": [
    {
     "data": {
      "image/png": "[encoded data removed]",
      "text/plain": [
       "<Figure size 640x480 with 1 Axes>"
      ]
     },
     "metadata": {},
     "output_type": "display_data"
    }
   ],
   "source": [
    "plt.hist(numeros, bins=40);"
   ]
  },
  {
   "cell_type": "code",
   "execution_count": 7,
   "id": "f946542a",
   "metadata": {},
   "outputs": [
    {
     "data": {
      "image/png": "[encoded data removed]",
      "text/plain": [
       "<Figure size 640x480 with 1 Axes>"
      ]
     },
     "metadata": {},
     "output_type": "display_data"
    }
   ],
   "source": [
    "plt.hist(numeros, bins=40, alpha=0.5);"
   ]
  },
  {
   "cell_type": "code",
   "execution_count": 8,
   "id": "5eb93e64",
   "metadata": {},
   "outputs": [
    {
     "data": {
      "image/png": "[encoded data removed]",
      "text/plain": [
       "<Figure size 640x480 with 1 Axes>"
      ]
     },
     "metadata": {},
     "output_type": "display_data"
    }
   ],
   "source": [
    "plt.hist(numeros, bins=40, alpha=0.5, color=\"red\");"
   ]
  },
  {
   "cell_type": "code",
   "execution_count": 9,
   "id": "3388fa89",
   "metadata": {},
   "outputs": [
    {
     "data": {
      "image/png": "[encoded data removed]",
      "text/plain": [
       "<Figure size 640x480 with 1 Axes>"
      ]
     },
     "metadata": {},
     "output_type": "display_data"
    }
   ],
   "source": [
    "plt.hist(numeros, bins=40, alpha=0.5, color=\"red\", edgecolor='green');"
   ]
  },
  {
   "cell_type": "code",
   "execution_count": 10,
   "id": "fa3b75dd",
   "metadata": {},
   "outputs": [
    {
     "data": {
      "image/png": "[encoded data removed]",
      "text/plain": [
       "<Figure size 640x480 with 1 Axes>"
      ]
     },
     "metadata": {},
     "output_type": "display_data"
    }
   ],
   "source": [
    "plt.hist(numeros, bins=40, alpha=0.5, color=\"red\", edgecolor='green', histtype='step');"
   ]
  },
  {
   "cell_type": "code",
   "execution_count": 12,
   "id": "add01061",
   "metadata": {},
   "outputs": [
    {
     "data": {
      "image/png": "[encoded data removed]",
      "text/plain": [
       "<Figure size 640x480 with 1 Axes>"
      ]
     },
     "metadata": {},
     "output_type": "display_data"
    }
   ],
   "source": [
    "x1 = np.random.randn(1000)\n",
    "x2 = np.random.randn(500)\n",
    "x3 = np.random.randn(100)\n",
    "plt.hist(x1, histtype='stepfilled', alpha = 0.3, bins = 40)\n",
    "plt.hist(x2, histtype='stepfilled', alpha = 0.3, bins = 40)\n",
    "plt.hist(x3, histtype='stepfilled', alpha = 0.3, bins = 40);\n"
   ]
  },
  {
   "cell_type": "code",
   "execution_count": null,
   "id": "0568e57a",
   "metadata": {},
   "outputs": [],
   "source": []
  }
 ],
 "metadata": {
  "kernelspec": {
   "display_name": "Python 3 (ipykernel)",
   "language": "python",
   "name": "python3"
  },
  "language_info": {
   "codemirror_mode": {
    "name": "ipython",
    "version": 3
   },
   "file_extension": ".py",
   "mimetype": "text/x-python",
   "name": "python",
   "nbconvert_exporter": "python",
   "pygments_lexer": "ipython3",
   "version": "3.12.4"
  }
 },
 "nbformat": 4,
 "nbformat_minor": 5
}
